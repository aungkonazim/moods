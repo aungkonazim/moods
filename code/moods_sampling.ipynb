{
 "cells": [
  {
   "cell_type": "code",
   "execution_count": 5,
   "metadata": {},
   "outputs": [
    {
     "ename": "KeyboardInterrupt",
     "evalue": "",
     "output_type": "error",
     "traceback": [
      "\u001b[0;31m---------------------------------------------------------------------------\u001b[0m",
      "\u001b[0;31mKeyboardInterrupt\u001b[0m                         Traceback (most recent call last)",
      "\u001b[0;32m<ipython-input-5-6470e4d4af58>\u001b[0m in \u001b[0;36m<module>\u001b[0;34m\u001b[0m\n\u001b[1;32m      1\u001b[0m \u001b[0;32mfrom\u001b[0m \u001b[0mcerebralcortex\u001b[0m\u001b[0;34m.\u001b[0m\u001b[0mutil\u001b[0m\u001b[0;34m.\u001b[0m\u001b[0mhelper_methods\u001b[0m \u001b[0;32mimport\u001b[0m \u001b[0mget_study_names\u001b[0m\u001b[0;34m\u001b[0m\u001b[0;34m\u001b[0m\u001b[0m\n\u001b[0;32m----> 2\u001b[0;31m \u001b[0msn\u001b[0m \u001b[0;34m=\u001b[0m \u001b[0mget_study_names\u001b[0m\u001b[0;34m(\u001b[0m\u001b[0;34m\"/home/jupyter/cc3_conf/\"\u001b[0m\u001b[0;34m)\u001b[0m\u001b[0;34m\u001b[0m\u001b[0;34m\u001b[0m\u001b[0m\n\u001b[0m\u001b[1;32m      3\u001b[0m \u001b[0mprint\u001b[0m\u001b[0;34m(\u001b[0m\u001b[0msn\u001b[0m\u001b[0;34m)\u001b[0m\u001b[0;34m\u001b[0m\u001b[0;34m\u001b[0m\u001b[0m\n\u001b[1;32m      4\u001b[0m \u001b[0;32mfrom\u001b[0m \u001b[0mpyspark\u001b[0m\u001b[0;34m.\u001b[0m\u001b[0msql\u001b[0m \u001b[0;32mimport\u001b[0m \u001b[0mfunctions\u001b[0m \u001b[0;32mas\u001b[0m \u001b[0mF\u001b[0m\u001b[0;34m\u001b[0m\u001b[0;34m\u001b[0m\u001b[0m\n\u001b[1;32m      5\u001b[0m \u001b[0;32mfrom\u001b[0m \u001b[0mpyspark\u001b[0m\u001b[0;34m.\u001b[0m\u001b[0msql\u001b[0m\u001b[0;34m.\u001b[0m\u001b[0mfunctions\u001b[0m \u001b[0;32mimport\u001b[0m \u001b[0mpandas_udf\u001b[0m\u001b[0;34m,\u001b[0m \u001b[0mPandasUDFType\u001b[0m\u001b[0;34m\u001b[0m\u001b[0;34m\u001b[0m\u001b[0m\n",
      "\u001b[0;32m/cerebralcortex/kessel_jupyter_virtualenv/cc33/lib64/python3.6/site-packages/cerebralcortex/util/helper_methods.py\u001b[0m in \u001b[0;36mget_study_names\u001b[0;34m(configs_dir_path)\u001b[0m\n\u001b[1;32m     53\u001b[0m         \u001b[0mstudy_path\u001b[0m \u001b[0;34m=\u001b[0m \u001b[0mconfig\u001b[0m\u001b[0;34m[\u001b[0m\u001b[0;34m'hdfs'\u001b[0m\u001b[0;34m]\u001b[0m\u001b[0;34m[\u001b[0m\u001b[0;34m'raw_files_dir'\u001b[0m\u001b[0;34m]\u001b[0m\u001b[0;34m\u001b[0m\u001b[0;34m\u001b[0m\u001b[0m\n\u001b[1;32m     54\u001b[0m         \u001b[0mstudy_names\u001b[0m \u001b[0;34m=\u001b[0m \u001b[0;34m[\u001b[0m\u001b[0;34m]\u001b[0m\u001b[0;34m\u001b[0m\u001b[0;34m\u001b[0m\u001b[0m\n\u001b[0;32m---> 55\u001b[0;31m         \u001b[0mall_studies\u001b[0m \u001b[0;34m=\u001b[0m \u001b[0mfs\u001b[0m\u001b[0;34m.\u001b[0m\u001b[0mls\u001b[0m\u001b[0;34m(\u001b[0m\u001b[0mstudy_path\u001b[0m\u001b[0;34m)\u001b[0m\u001b[0;34m\u001b[0m\u001b[0;34m\u001b[0m\u001b[0m\n\u001b[0m\u001b[1;32m     56\u001b[0m         \u001b[0;32mfor\u001b[0m \u001b[0mstrm\u001b[0m \u001b[0;32min\u001b[0m \u001b[0mall_studies\u001b[0m\u001b[0;34m:\u001b[0m\u001b[0;34m\u001b[0m\u001b[0;34m\u001b[0m\u001b[0m\n\u001b[1;32m     57\u001b[0m             \u001b[0mstudy_names\u001b[0m\u001b[0;34m.\u001b[0m\u001b[0mappend\u001b[0m\u001b[0;34m(\u001b[0m\u001b[0mstrm\u001b[0m\u001b[0;34m.\u001b[0m\u001b[0mreplace\u001b[0m\u001b[0;34m(\u001b[0m\u001b[0mstudy_path\u001b[0m\u001b[0;34m,\u001b[0m\u001b[0;34m\"\"\u001b[0m\u001b[0;34m)\u001b[0m\u001b[0;34m.\u001b[0m\u001b[0mreplace\u001b[0m\u001b[0;34m(\u001b[0m\u001b[0;34m\"study=\"\u001b[0m\u001b[0;34m,\u001b[0m\u001b[0;34m\"\"\u001b[0m\u001b[0;34m)\u001b[0m\u001b[0;34m)\u001b[0m\u001b[0;34m\u001b[0m\u001b[0;34m\u001b[0m\u001b[0m\n",
      "\u001b[0;32m/cerebralcortex/kessel_jupyter_virtualenv/cc33/lib64/python3.6/site-packages/pyarrow/hdfs.py\u001b[0m in \u001b[0;36mls\u001b[0;34m(self, path, detail)\u001b[0m\n\u001b[1;32m    105\u001b[0m         \u001b[0mresult\u001b[0m \u001b[0;34m:\u001b[0m \u001b[0mlist\u001b[0m \u001b[0mof\u001b[0m \u001b[0mdicts\u001b[0m \u001b[0;34m(\u001b[0m\u001b[0mdetail\u001b[0m\u001b[0;34m=\u001b[0m\u001b[0;32mTrue\u001b[0m\u001b[0;34m)\u001b[0m \u001b[0;32mor\u001b[0m \u001b[0mstrings\u001b[0m \u001b[0;34m(\u001b[0m\u001b[0mdetail\u001b[0m\u001b[0;34m=\u001b[0m\u001b[0;32mFalse\u001b[0m\u001b[0;34m)\u001b[0m\u001b[0;34m\u001b[0m\u001b[0;34m\u001b[0m\u001b[0m\n\u001b[1;32m    106\u001b[0m         \"\"\"\n\u001b[0;32m--> 107\u001b[0;31m         \u001b[0;32mreturn\u001b[0m \u001b[0msuper\u001b[0m\u001b[0;34m(\u001b[0m\u001b[0;34m)\u001b[0m\u001b[0;34m.\u001b[0m\u001b[0mls\u001b[0m\u001b[0;34m(\u001b[0m\u001b[0mpath\u001b[0m\u001b[0;34m,\u001b[0m \u001b[0mdetail\u001b[0m\u001b[0;34m)\u001b[0m\u001b[0;34m\u001b[0m\u001b[0;34m\u001b[0m\u001b[0m\n\u001b[0m\u001b[1;32m    108\u001b[0m \u001b[0;34m\u001b[0m\u001b[0m\n\u001b[1;32m    109\u001b[0m     \u001b[0;32mdef\u001b[0m \u001b[0mwalk\u001b[0m\u001b[0;34m(\u001b[0m\u001b[0mself\u001b[0m\u001b[0;34m,\u001b[0m \u001b[0mtop_path\u001b[0m\u001b[0;34m)\u001b[0m\u001b[0;34m:\u001b[0m\u001b[0;34m\u001b[0m\u001b[0;34m\u001b[0m\u001b[0m\n",
      "\u001b[0;31mKeyboardInterrupt\u001b[0m: "
     ]
    }
   ],
   "source": [
    "from cerebralcortex.util.helper_methods import get_study_names\n",
    "sn = get_study_names(\"/home/jupyter/cc3_conf/\")\n",
    "print(sn)\n",
    "from pyspark.sql import functions as F\n",
    "from pyspark.sql.functions import pandas_udf, PandasUDFType\n",
    "from pyspark.sql.types import StructField, StructType, DoubleType,MapType, StringType,ArrayType, FloatType, TimestampType, IntegerType\n",
    "from pyspark.sql.functions import minute, second, mean, window\n",
    "from pyspark.sql import functions as F\n",
    "import numpy as np\n",
    "import pandas as pd\n",
    "from cerebralcortex.core.datatypes import DataStream\n",
    "from cerebralcortex.core.metadata_manager.stream.metadata import Metadata, DataDescriptor, \\\n",
    "ModuleMetadata\n",
    "from typing import List\n",
    "import numpy as np\n",
    "from scipy import signal\n",
    "import pandas as pd\n",
    "from cerebralcortex import Kernel\n",
    "from pyspark.sql import functions as F\n",
    "CC = Kernel(\"/home/jupyter/cc3_conf/\", study_name='rice')"
   ]
  },
  {
   "cell_type": "code",
   "execution_count": 2,
   "metadata": {},
   "outputs": [],
   "source": [
    "import zipfile,shutil\n",
    "\n",
    "shutil.make_archive('../images_sampling/','zip','../images_sampling/')"
   ]
  },
  {
   "cell_type": "code",
   "execution_count": null,
   "metadata": {},
   "outputs": [],
   "source": []
  },
  {
   "cell_type": "code",
   "execution_count": null,
   "metadata": {},
   "outputs": [],
   "source": [
    "from pyspark.sql.functions import pandas_udf, PandasUDFType\n",
    "from pyspark.sql.types import StructField, StructType, DoubleType, StringType, TimestampType, IntegerType\n",
    "import numpy as np\n",
    "from cerebralcortex.core.datatypes import DataStream\n",
    "from cerebralcortex.core.metadata_manager.stream.metadata import Metadata, DataDescriptor, \\\n",
    "    ModuleMetadata\n",
    "from scipy import signal\n",
    "def filter_data(X,\n",
    "                Fs=100,\n",
    "                low_cutoff=.3,\n",
    "                high_cutoff=5.0,\n",
    "                filter_order=65):\n",
    "    \"\"\"\n",
    "    Bandpass Filter of single channel\n",
    "\n",
    "    :param X: input data\n",
    "    :param Fs: sampling freq.\n",
    "    :param low_cutoff: low passband\n",
    "    :param high_cutoff: high passband\n",
    "    :param filter_order: no of taps in FIR filter\n",
    "\n",
    "    :return: filtered version of input data\n",
    "    \"\"\"\n",
    "    X1 = X.reshape(-1,1)\n",
    "    X1 = signal.detrend(X1,axis=0,type='constant')\n",
    "    b = signal.firls(filter_order,np.array([0,low_cutoff-.1, low_cutoff, high_cutoff ,high_cutoff+.5,Fs/2]),np.array([0, 0 ,1 ,1 ,0, 0]),\n",
    "                     np.array([100*0.02,0.02,0.02]),fs=Fs)\n",
    "    X2 = signal.convolve(X1.reshape(-1),b,mode='same')\n",
    "    return X2\n",
    "\n",
    "def get_metadata(data,\n",
    "                 wrist='left',\n",
    "                 sensor_name='motionsensehrv',\n",
    "                 ppg_columns=('red','infrared','green'),\n",
    "                 acl_columns=('aclx','acly','aclz')):\n",
    "    \"\"\"\n",
    "    :param data: input stream\n",
    "    :param wrist: which wrist the data was collected from\n",
    "    :param sensor_name: name of sensor\n",
    "    :param ppg_columns: columns in the input dataframe referring to multiple ppg channels\n",
    "    :param acl_columns: columns in the input dataframe referring to accelerometer channels\n",
    "\n",
    "    :return: metadata of output stream\n",
    "    \"\"\"\n",
    "    stream_name = \"org.md2k.\"+str(sensor_name)+\".\"+str(wrist)+\".wrist.bandpass.filtered\"\n",
    "    stream_metadata = Metadata()\n",
    "    stream_metadata.set_name(stream_name).set_description(\"Bandpass Filtered PPG data\") \\\n",
    "        .add_dataDescriptor(DataDescriptor().set_name(\"timestamp\").set_type(\"datetime\")) \\\n",
    "        .add_dataDescriptor(DataDescriptor().set_name(\"localtime\").set_type(\"datetime\")) \\\n",
    "        .add_dataDescriptor(DataDescriptor().set_name(\"version\").set_type(\"int\")) \\\n",
    "        .add_dataDescriptor(DataDescriptor().set_name(\"user\").set_type(\"string\"))\n",
    "\n",
    "    for c in ppg_columns:\n",
    "        stream_metadata.add_dataDescriptor(DataDescriptor().set_name(c).set_type(\"double\").set_attribute(\"description\",\n",
    "                                                                                                    \"ppg channel \"+c))\n",
    "    for c in acl_columns:\n",
    "        stream_metadata.add_dataDescriptor(DataDescriptor().set_name(c).set_type(\"double\").set_attribute(\"description\",\n",
    "                                                                                            \"accelerometer channel \"+c))\n",
    "\n",
    "    stream_metadata.add_module(\n",
    "        ModuleMetadata().set_name(\"ecg data quality\").set_attribute(\"url\", \"http://md2k.org/\").set_author(\n",
    "            \"Md Azim Ullah\", \"mullah@memphis.edu\"))\n",
    "    return stream_metadata\n",
    "\n",
    "\n",
    "def bandpass_filter(\n",
    "                   data,\n",
    "                   Fs = 25,\n",
    "                   low_cutoff = 0.4,\n",
    "                   high_cutoff = 3.0,\n",
    "                   filter_order = 65,\n",
    "                   ppg_columns=('red','infrared','green'),\n",
    "                   acl_columns=('aclx','acly','aclz'),\n",
    "                   wrist='left',\n",
    "                   sensor_name='motionsensehrv'):\n",
    "\n",
    "    \"\"\"\n",
    "\n",
    "    :param data: PPG & ACL data stream\n",
    "    :param Fs: sampling frequency\n",
    "    :param low_cutoff: minimum frequency of pass band\n",
    "    :param high_cutoff: Maximum Frequency of pass band\n",
    "    :param filter_order: no. of taps in FIR filter\n",
    "    :param ppg_columns: columns in the input dataframe referring to multiple ppg channels\n",
    "    :param acl_columns: columns in the input dataframe referring to accelerometer channels\n",
    "    :param wrist: which wrist the data was collected from\n",
    "    :param sensor_name: name of sensor\n",
    "\n",
    "    :return: Bandpass filtered version of input PPG data\n",
    "    \"\"\"\n",
    "\n",
    "    ## check if all columns exist\n",
    "\n",
    "    default_columns = ['user','version','localtime','timestamp']\n",
    "    required_columns = default_columns+acl_columns+ppg_columns\n",
    "    if len(set(required_columns)-set(data.columns))>0:\n",
    "        raise Exception(\"Columns missing in input dataframe! \" + str(list(set(required_columns)-set(data.columns))))\n",
    "\n",
    "    ## select the columns from input dataframe\n",
    "\n",
    "    data = data.select(*required_columns)\n",
    "\n",
    "    ## udf\n",
    "\n",
    "    default_schema = [StructField(\"timestamp\", TimestampType()),\n",
    "                      StructField(\"localtime\", TimestampType()),\n",
    "                      StructField(\"version\", IntegerType()),\n",
    "                      StructField(\"user\", StringType())]\n",
    "    schema = StructType(default_schema+[StructField(c, DoubleType()) for c in list(ppg_columns)+list(acl_columns)])\n",
    "    @pandas_udf(schema, PandasUDFType.GROUPED_MAP)\n",
    "    def ppg_bandpass(data):\n",
    "        data = data.sort_values('timestamp').reset_index(drop=True)\n",
    "        for c in ppg_columns:\n",
    "            data[c] = filter_data(data[c].values,Fs=Fs,low_cutoff=low_cutoff,high_cutoff=high_cutoff,filter_order=filter_order)\n",
    "        return data\n",
    "\n",
    "    ## steps\n",
    "    ppg_bandpass_filtered = data.compute(ppg_bandpass,windowDuration=60*60*10,startTime='0 seconds')\n",
    "    output_data = ppg_bandpass_filtered._data\n",
    "    ds = DataStream(data=output_data,metadata=get_metadata(data,wrist=wrist,sensor_name=sensor_name,\n",
    "                                                           ppg_columns=ppg_columns,acl_columns=acl_columns))\n",
    "    return ds"
   ]
  },
  {
   "cell_type": "code",
   "execution_count": null,
   "metadata": {},
   "outputs": [],
   "source": [
    "data = CC.get_stream('ppg--org.md2k.watch--fossil_watch_sport',user_id='afcfc1b5-365f-409b-918e-2f0ce8056ff9')\n",
    "data  = data.withColumn('day',F.date_format('localtime',\"YYYYMMdd\"))\n",
    "data = data.filter(F.col('day').isin(['20201020','20201019']))\n",
    "# filtered_data = bandpass_filter(\n",
    "#                    data,\n",
    "#                    Fs = 100,\n",
    "#                    low_cutoff = 0.4,\n",
    "#                    high_cutoff = 3.0,\n",
    "#                    filter_order = 65,\n",
    "#                    ppg_columns=['ppg1'],\n",
    "#                    acl_columns=[],\n",
    "#                    wrist='left',\n",
    "#                    sensor_name='fossil')\n",
    "# CC.save_stream(filtered_data,overwrite=True)"
   ]
  },
  {
   "cell_type": "code",
   "execution_count": null,
   "metadata": {},
   "outputs": [],
   "source": [
    "data.sort(F.col('timestamp').desc()).show(10,False)"
   ]
  },
  {
   "cell_type": "code",
   "execution_count": null,
   "metadata": {},
   "outputs": [],
   "source": [
    "ppg = data.toPandas().sort_values('timestamp').reset_index(drop=True)"
   ]
  },
  {
   "cell_type": "code",
   "execution_count": null,
   "metadata": {},
   "outputs": [],
   "source": [
    "data.count()"
   ]
  },
  {
   "cell_type": "code",
   "execution_count": null,
   "metadata": {},
   "outputs": [],
   "source": [
    "import matplotlib.pyplot as plt"
   ]
  },
  {
   "cell_type": "code",
   "execution_count": null,
   "metadata": {},
   "outputs": [],
   "source": [
    "plt.figure(figsize=(20,10))\n",
    "plt.plot(ppg['localtime'],ppg['ppg1'])\n",
    "plt.show()"
   ]
  },
  {
   "cell_type": "code",
   "execution_count": null,
   "metadata": {},
   "outputs": [],
   "source": [
    "ppg.head()"
   ]
  },
  {
   "cell_type": "code",
   "execution_count": null,
   "metadata": {},
   "outputs": [],
   "source": [
    "CC.list_streams()"
   ]
  },
  {
   "cell_type": "code",
   "execution_count": null,
   "metadata": {},
   "outputs": [],
   "source": [
    "CC.get_stream('activity_type--org.md2k.moods--phonesensor--phone').sort(F.col('localtime').desc()).show(2,False)"
   ]
  },
  {
   "cell_type": "code",
   "execution_count": null,
   "metadata": {},
   "outputs": [],
   "source": [
    "CC.list_streams()"
   ]
  },
  {
   "cell_type": "code",
   "execution_count": null,
   "metadata": {},
   "outputs": [],
   "source": [
    "data = CC.get_stream('moods_logs').toPandas()"
   ]
  },
  {
   "cell_type": "code",
   "execution_count": null,
   "metadata": {},
   "outputs": [],
   "source": [
    "data['ind'] = data['message'].apply(lambda a:a.find('ACTIVITY INPUT'))"
   ]
  },
  {
   "cell_type": "code",
   "execution_count": null,
   "metadata": {},
   "outputs": [],
   "source": [
    "data[data.ind>-1][-2:]"
   ]
  },
  {
   "cell_type": "code",
   "execution_count": null,
   "metadata": {},
   "outputs": [],
   "source": [
    "data[data.ind>-1].uuid.unique()"
   ]
  },
  {
   "cell_type": "code",
   "execution_count": null,
   "metadata": {},
   "outputs": [],
   "source": [
    "data[(data.ind>-1)&(data.uuid=='e792585a-48a2-36ae-9a50-de0605f76829')]"
   ]
  },
  {
   "cell_type": "code",
   "execution_count": null,
   "metadata": {},
   "outputs": [],
   "source": [
    "data = CC.get_stream('moods_logs')"
   ]
  },
  {
   "cell_type": "code",
   "execution_count": null,
   "metadata": {},
   "outputs": [],
   "source": [
    "data  = data.withColumn('day',F.date_format('timestamp',\"yyyyMMdd\"))"
   ]
  },
  {
   "cell_type": "code",
   "execution_count": null,
   "metadata": {},
   "outputs": [],
   "source": [
    "data.show(10,False)"
   ]
  },
  {
   "cell_type": "code",
   "execution_count": null,
   "metadata": {},
   "outputs": [],
   "source": []
  }
 ],
 "metadata": {
  "kernelspec": {
   "display_name": "Python 3",
   "language": "python",
   "name": "python3"
  },
  "language_info": {
   "codemirror_mode": {
    "name": "ipython",
    "version": 3
   },
   "file_extension": ".py",
   "mimetype": "text/x-python",
   "name": "python",
   "nbconvert_exporter": "python",
   "pygments_lexer": "ipython3",
   "version": "3.6.8"
  }
 },
 "nbformat": 4,
 "nbformat_minor": 2
}
